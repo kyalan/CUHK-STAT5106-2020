{
  "nbformat": 4,
  "nbformat_minor": 0,
  "metadata": {
    "kernelspec": {
      "display_name": "Python 3",
      "language": "python",
      "name": "python3"
    },
    "language_info": {
      "codemirror_mode": {
        "name": "ipython",
        "version": 3
      },
      "file_extension": ".py",
      "mimetype": "text/x-python",
      "name": "python",
      "nbconvert_exporter": "python",
      "pygments_lexer": "ipython3",
      "version": "3.6.9"
    },
    "colab": {
      "name": "Week 8 pandas.ipynb",
      "provenance": [],
      "include_colab_link": true
    }
  },
  "cells": [
    {
      "cell_type": "markdown",
      "metadata": {
        "id": "view-in-github",
        "colab_type": "text"
      },
      "source": [
        "<a href=\"https://colab.research.google.com/github/kyalan/CUHK-STAT5106-2020/blob/main/Week_8_pandas.ipynb\" target=\"_parent\"><img src=\"https://colab.research.google.com/assets/colab-badge.svg\" alt=\"Open In Colab\"/></a>"
      ]
    },
    {
      "cell_type": "markdown",
      "metadata": {
        "id": "_xKo2m6bAfmr"
      },
      "source": [
        "# Initiation of a DataFrame"
      ]
    },
    {
      "cell_type": "code",
      "metadata": {
        "id": "SCOWnXPnAfmt"
      },
      "source": [
        "import pandas as pd"
      ],
      "execution_count": null,
      "outputs": []
    },
    {
      "cell_type": "code",
      "metadata": {
        "id": "go71efiuAfmy"
      },
      "source": [
        "data = {\n",
        "    'apples': [3, 2, 0, 1], \n",
        "    'oranges': [0, 3, 7, 2]\n",
        "}\n",
        "purchases = pd.DataFrame(data)\n",
        "print(purchases)"
      ],
      "execution_count": null,
      "outputs": []
    },
    {
      "cell_type": "code",
      "metadata": {
        "id": "PSyfHnMXAfm3"
      },
      "source": [
        "purchases = pd.DataFrame(data, index=['June', 'Robert', 'Lily', 'David'])\n",
        "print(purchases)\n",
        "print(purchases.loc['June'])"
      ],
      "execution_count": null,
      "outputs": []
    },
    {
      "cell_type": "markdown",
      "metadata": {
        "id": "8c6KiRJXAfm6"
      },
      "source": [
        "# MovieLens\n",
        "\n",
        "* [Data Source Link](https://grouplens.org/datasets/movielens/)\n",
        "* The small dataset version is involved – [ml-latest-small.zip](http://files.grouplens.org/datasets/movielens/ml-latest-small.zip), with 100K ratings <br/>\n",
        "(Of course you can play the larger version if you are interested in)\n",
        "* 4 files are consisted ([details](http://files.grouplens.org/datasets/movielens/ml-latest-small-README.html))"
      ]
    },
    {
      "cell_type": "code",
      "metadata": {
        "id": "aq1MrrcgAfm7"
      },
      "source": [
        "# Download file\n",
        "\n",
        "from urllib.request import urlretrieve\n",
        "urlretrieve(\"http://files.grouplens.org/datasets/movielens/ml-latest-small.zip\", \"ml-latest-small.zip\")"
      ],
      "execution_count": null,
      "outputs": []
    },
    {
      "cell_type": "code",
      "metadata": {
        "id": "0Cou4IoEAfm-"
      },
      "source": [
        "# Directly read csvs in Zip file\n",
        "\n",
        "import zipfile\n",
        "\n",
        "zf = zipfile.ZipFile('ml-latest-small.zip') \n",
        "df_links = pd.read_csv(zf.open('ml-latest-small/links.csv'), dtype='str')"
      ],
      "execution_count": null,
      "outputs": []
    },
    {
      "cell_type": "code",
      "metadata": {
        "id": "d-weCsoYAfnC"
      },
      "source": [
        "print(df_links.info(), \"\\n\")\n",
        "print(df_links.describe(), \"\\n\")\n",
        "print(df_links.head())"
      ],
      "execution_count": null,
      "outputs": []
    },
    {
      "cell_type": "code",
      "metadata": {
        "id": "yjcRFa7XAfnF"
      },
      "source": [
        "df_movies = pd.read_csv(zf.open('ml-latest-small/movies.csv'))\n",
        "df_ratings = pd.read_csv(zf.open('ml-latest-small/ratings.csv'))\n",
        "df_tags = pd.read_csv(zf.open('ml-latest-small/tags.csv'))\n",
        "print(df_movies.shape, df_ratings.shape, df_tags.shape)"
      ],
      "execution_count": null,
      "outputs": []
    },
    {
      "cell_type": "code",
      "metadata": {
        "id": "BmVwiF6oAfnJ"
      },
      "source": [
        "zf.close()"
      ],
      "execution_count": null,
      "outputs": []
    },
    {
      "cell_type": "code",
      "metadata": {
        "scrolled": true,
        "id": "G3GIGCeTAfnM"
      },
      "source": [
        "# unique keys\n",
        "# guess the key and check it\n",
        "\n",
        "nrows = df_links.shape[0]\n",
        "print('df_links no. of rows =', nrows)\n",
        "# count the number of unique values, and check\n",
        "print('movieId is the unique keys =', nrows==df_links['movieId'].unique().shape[0])\n",
        "\n",
        "nrows = df_movies.shape[0]\n",
        "print('df_movies no. of rows =', nrows)\n",
        "print('movieId is the unique keys =', nrows==df_movies['movieId'].unique().shape[0])\n",
        "\n",
        "nrows = df_ratings.shape[0]\n",
        "print('df_ratings no. of rows =', nrows)\n",
        "print(\"['userId', 'movieId', 'timestamp'] are the unique keys =\"\n",
        "      , nrows==df_ratings[['userId', 'movieId', 'timestamp']].drop_duplicates().shape[0])\n",
        "\n",
        "nrows = df_tags.shape[0]\n",
        "print('df_tags no. of rows =', nrows)\n",
        "print(\"No combinations of columns are the unique keys.\")"
      ],
      "execution_count": null,
      "outputs": []
    },
    {
      "cell_type": "code",
      "metadata": {
        "id": "S0sZ5M70AfnQ"
      },
      "source": [
        "#Find the titles of 3 movies, with the most nos. of ratings\n",
        "df = df_ratings.merge(df_movies, how='left', on='movieId')\n",
        "print(df.title.value_counts().head(3))"
      ],
      "execution_count": null,
      "outputs": []
    },
    {
      "cell_type": "code",
      "metadata": {
        "id": "zHCjNdOwAfnU"
      },
      "source": [
        "#Find the no. of movies, with the highest ratings\n",
        "df_maxRating = df[df.rating==df.rating.max()]\n",
        "# df_maxRating = df.query('rating==rating.max()')\n",
        "print(df_maxRating.movieId.unique().shape[0], 'movies get the highest ratings')"
      ],
      "execution_count": null,
      "outputs": []
    },
    {
      "cell_type": "code",
      "metadata": {
        "id": "JshJLFmCQ8x7"
      },
      "source": [
        "df['datetime'].dt.month"
      ],
      "execution_count": null,
      "outputs": []
    },
    {
      "cell_type": "code",
      "metadata": {
        "id": "hstvSN5PAfnX"
      },
      "source": [
        "#Find the peak month users rate movies\n",
        "df['datetime'] = pd.to_datetime(df.timestamp, unit='s')\n",
        "df['months'] = df['datetime'].dt.month\n",
        "print(f'{df[\"months\"].value_counts().index.values[0]}th month is the peak month')"
      ],
      "execution_count": null,
      "outputs": []
    },
    {
      "cell_type": "code",
      "metadata": {
        "id": "y5h9c9cOAfna"
      },
      "source": [
        "#Find the peak hour users rate movies\n",
        "df['hours'] = df['datetime'].dt.hour\n",
        "print(f'{df[\"hours\"].value_counts().index.values[0]}th hour is the peak hour')"
      ],
      "execution_count": null,
      "outputs": []
    },
    {
      "cell_type": "code",
      "metadata": {
        "id": "HLEj_V7RAfng"
      },
      "source": [
        "#Find the movie having the most tags\n",
        "df = df_tags.merge(df_movies, how='left', on='movieId')\n",
        "print(df.title.value_counts().head(1))"
      ],
      "execution_count": null,
      "outputs": []
    },
    {
      "cell_type": "code",
      "metadata": {
        "id": "4zs3MlRtAfnj"
      },
      "source": [
        "#Find the most active userID on tagging movies\n",
        "print('UserId', df.userId.value_counts().index.values[0], 'is the most active user.')"
      ],
      "execution_count": null,
      "outputs": []
    },
    {
      "cell_type": "code",
      "metadata": {
        "id": "KrvyCsxxAfnm"
      },
      "source": [
        "#Find the most common tags on those movies\n",
        "print('Most common tag is', df.tag.value_counts().index.values[0])"
      ],
      "execution_count": null,
      "outputs": []
    },
    {
      "cell_type": "markdown",
      "metadata": {
        "id": "uXS8XjYRAfnp"
      },
      "source": [
        "# Chunk in read_csv"
      ]
    },
    {
      "cell_type": "code",
      "metadata": {
        "id": "dCSqu9REAfnp"
      },
      "source": [
        "zf = zipfile.ZipFile('ml-latest-small.zip') \n",
        "iter_df_movies = pd.read_csv(zf.open('ml-latest-small/movies.csv'), chunksize=1000)"
      ],
      "execution_count": null,
      "outputs": []
    },
    {
      "cell_type": "code",
      "metadata": {
        "id": "_onEP2W8Afns"
      },
      "source": [
        "# iterate for each small chunk\n",
        "df_movies_mini = next(iter_df_movies)\n",
        "print(df_movies_mini.head(1), df_movies_mini.tail(1))"
      ],
      "execution_count": null,
      "outputs": []
    },
    {
      "cell_type": "code",
      "metadata": {
        "id": "agOeWth2Afnv"
      },
      "source": [
        "# for loops\n",
        "for df_movies_mini in iter_df_movies:\n",
        "    print(\"Reading rows\", df_movies_mini.index[0], df_movies_mini.index[-1])"
      ],
      "execution_count": null,
      "outputs": []
    },
    {
      "cell_type": "markdown",
      "metadata": {
        "id": "AR2nGMltAfny"
      },
      "source": [
        "# Generators"
      ]
    },
    {
      "cell_type": "code",
      "metadata": {
        "id": "c5MIZhTRAfny"
      },
      "source": [
        "def gen_example():\n",
        "    n = 1\n",
        "    print('This is printed first')\n",
        "    # Generator function contains yield statements\n",
        "    yield n\n",
        "\n",
        "    n += 1\n",
        "    print('This is printed second')\n",
        "    yield n\n",
        "\n",
        "    n += 1\n",
        "    print('This is printed at last')\n",
        "    yield n "
      ],
      "execution_count": null,
      "outputs": []
    },
    {
      "cell_type": "code",
      "metadata": {
        "id": "75qJeHFDAfn2"
      },
      "source": [
        "g_eg = gen_example()\n",
        "print(g_eg)"
      ],
      "execution_count": null,
      "outputs": []
    },
    {
      "cell_type": "code",
      "metadata": {
        "id": "JzzQoU2jAfn5"
      },
      "source": [
        "print(next(g_eg))"
      ],
      "execution_count": null,
      "outputs": []
    },
    {
      "cell_type": "code",
      "metadata": {
        "id": "lI5NpyZxAfn9"
      },
      "source": [
        "def processing_rows(zipfilename, csvfile):\n",
        "    zf_gen = zipfile.ZipFile(zipfilename)\n",
        "    iter_df_movies = pd.read_csv(zf.open(csvfile), chunksize=1000)\n",
        "    for df_movies_mini in iter_df_movies:\n",
        "        yield (df_movies_mini.index[0], df_movies_mini.index[-1])\n",
        "        \n",
        "g_df = processing_rows('ml-latest-small.zip', 'ml-latest-small/movies.csv')"
      ],
      "execution_count": null,
      "outputs": []
    },
    {
      "cell_type": "code",
      "metadata": {
        "scrolled": true,
        "id": "gAN-1nMhAfoA"
      },
      "source": [
        "for g_df_out in g_df:\n",
        "    print(\"Reading rows\", g_df_out)"
      ],
      "execution_count": null,
      "outputs": []
    },
    {
      "cell_type": "code",
      "metadata": {
        "id": "iHjiEf63SNO0"
      },
      "source": [
        ""
      ],
      "execution_count": null,
      "outputs": []
    }
  ]
}