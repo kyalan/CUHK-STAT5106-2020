{
  "nbformat": 4,
  "nbformat_minor": 0,
  "metadata": {
    "colab": {
      "name": "Week 10 - Google API Example.ipynb",
      "provenance": [],
      "collapsed_sections": [],
      "authorship_tag": "ABX9TyPN1VF/mkQ5P4FaTJ8mdzjB",
      "include_colab_link": true
    },
    "kernelspec": {
      "name": "python3",
      "display_name": "Python 3"
    }
  },
  "cells": [
    {
      "cell_type": "markdown",
      "metadata": {
        "id": "view-in-github",
        "colab_type": "text"
      },
      "source": [
        "<a href=\"https://colab.research.google.com/github/kyalan/CUHK-STAT5106-2020/blob/main/Week_10_Google_API_Example.ipynb\" target=\"_parent\"><img src=\"https://colab.research.google.com/assets/colab-badge.svg\" alt=\"Open In Colab\"/></a>"
      ]
    },
    {
      "cell_type": "markdown",
      "metadata": {
        "id": "EQycWaHBJAe_"
      },
      "source": [
        "# Download GeoAPI.py"
      ]
    },
    {
      "cell_type": "code",
      "metadata": {
        "id": "63pQdIykIYsE"
      },
      "source": [
        "! wget --no-check-certificate 'https://drive.google.com/uc?export=download&id=1Fw-DPnCWuPfHfQpwqPu1C9JzfKZ5K8RZ' -O /content/GeoAPI.py"
      ],
      "execution_count": null,
      "outputs": []
    },
    {
      "cell_type": "code",
      "metadata": {
        "id": "XIqtDFDxMaCg"
      },
      "source": [
        "# confirm the working directory\n",
        "\n",
        "import os\n",
        "print(os.getcwd())"
      ],
      "execution_count": null,
      "outputs": []
    },
    {
      "cell_type": "code",
      "metadata": {
        "id": "BvJ9XoMVMODw"
      },
      "source": [
        "# GeoAPI content\n",
        "\n",
        "with open('GeoAPI.py') as f:\n",
        "    print(f.read())"
      ],
      "execution_count": null,
      "outputs": []
    },
    {
      "cell_type": "markdown",
      "metadata": {
        "id": "wczEIHEBNOQn"
      },
      "source": [
        "Note: SSL certificate errors ([Ref](https://blog.hubspot.com/website/fix-ssl-certificate-error))"
      ]
    },
    {
      "cell_type": "markdown",
      "metadata": {
        "id": "cNugMSV1KA-n"
      },
      "source": [
        "# Import API key\n",
        "\n",
        "To get your API key, [here](https://console.cloud.google.com/apis/dashboard)"
      ]
    },
    {
      "cell_type": "code",
      "metadata": {
        "id": "-Pk7EaSbKGrd"
      },
      "source": [
        "api_key = input('Please input your Google API key:\\n')"
      ],
      "execution_count": null,
      "outputs": []
    },
    {
      "cell_type": "code",
      "metadata": {
        "id": "y2wkN5qlOVvu"
      },
      "source": [
        "# For reload the whole module\n",
        "\n",
        "from importlib import reload\n",
        "import GeoAPI\n",
        "reload(GeoAPI)"
      ],
      "execution_count": null,
      "outputs": []
    },
    {
      "cell_type": "markdown",
      "metadata": {
        "id": "Xkqgu4JgQBe8"
      },
      "source": [
        "# Geocoding API getting lat-long\n",
        "\n",
        "Reference is [here](https://developers.google.com/maps/documentation/geocoding/overview)"
      ]
    },
    {
      "cell_type": "code",
      "metadata": {
        "id": "HK3FlXF2IujU"
      },
      "source": [
        "from GeoAPI import *\n",
        "\n",
        "address = 'Lady Shaw Building, Hong Kong'\n",
        "geojs = getGeojs(address, api_key=api_key, verbose=True)\n",
        "\n",
        "print('Place id', geojs['results'][0]['place_id'])\n",
        "\n",
        "try:\n",
        "    lat = geojs['results'][0]['geometry']['location']['lat']\n",
        "    lng = geojs['results'][0]['geometry']['location']['lng']\n",
        "except:\n",
        "    lat = None\n",
        "    lng = None\n",
        "\n",
        "print('lat', lat, 'lng', lng)\n",
        "location = geojs['results'][0]['formatted_address']\n",
        "print(location)"
      ],
      "execution_count": null,
      "outputs": []
    },
    {
      "cell_type": "code",
      "metadata": {
        "id": "itr4bU6zOutV"
      },
      "source": [
        "geojs"
      ],
      "execution_count": null,
      "outputs": []
    },
    {
      "cell_type": "markdown",
      "metadata": {
        "id": "sUkhTJtcR57h"
      },
      "source": [
        "# Knowledge Graph\n",
        "\n",
        "Reference is [here](https://developers.google.com/knowledge-graph)"
      ]
    },
    {
      "cell_type": "code",
      "metadata": {
        "id": "5xjAxwknSAWr"
      },
      "source": [
        "import urllib.request, urllib.parse, urllib.error\n",
        "import json\n",
        "import ssl\n",
        "\n",
        "query = '鬼滅之刃'\n",
        "service_url = 'https://kgsearch.googleapis.com/v1/entities:search'\n",
        "params = {\n",
        "    'query': query,\n",
        "    'limit': 10,\n",
        "    'indent': True,\n",
        "    'key': api_key,\n",
        "}\n",
        "\n",
        "# Ignore SSL certificate errors\n",
        "ctx = ssl.create_default_context()\n",
        "ctx.check_hostname = False\n",
        "ctx.verify_mode = ssl.CERT_NONE\n",
        "\n",
        "url = service_url + '?' + urllib.parse.urlencode(params)\n",
        "print('Retrieving', url)\n",
        "uh = urllib.request.urlopen(url, context=ctx)\n",
        "data = uh.read().decode()\n",
        "print('Retrieved', len(data), 'characters')\n",
        "response = json.loads(data)\n",
        "for element in response['itemListElement']:\n",
        "  print(element['result']['name'] + ' (' + str(element['resultScore']) + ')')\n"
      ],
      "execution_count": null,
      "outputs": []
    },
    {
      "cell_type": "code",
      "metadata": {
        "id": "QEwHwVX4TSRe"
      },
      "source": [
        "response"
      ],
      "execution_count": null,
      "outputs": []
    }
  ]
}