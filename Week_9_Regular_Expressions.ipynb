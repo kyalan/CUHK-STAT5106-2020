{
  "nbformat": 4,
  "nbformat_minor": 0,
  "metadata": {
    "kernelspec": {
      "display_name": "Python 3",
      "language": "python",
      "name": "python3"
    },
    "language_info": {
      "codemirror_mode": {
        "name": "ipython",
        "version": 3
      },
      "file_extension": ".py",
      "mimetype": "text/x-python",
      "name": "python",
      "nbconvert_exporter": "python",
      "pygments_lexer": "ipython3",
      "version": "3.6.9"
    },
    "colab": {
      "name": "Week 9 - Regular Expressions.ipynb",
      "provenance": [],
      "include_colab_link": true
    }
  },
  "cells": [
    {
      "cell_type": "markdown",
      "metadata": {
        "id": "view-in-github",
        "colab_type": "text"
      },
      "source": [
        "<a href=\"https://colab.research.google.com/github/kyalan/CUHK-STAT5106-2020/blob/main/Week_9_Regular_Expressions.ipynb\" target=\"_parent\"><img src=\"https://colab.research.google.com/assets/colab-badge.svg\" alt=\"Open In Colab\"/></a>"
      ]
    },
    {
      "cell_type": "markdown",
      "metadata": {
        "id": "UhS5nvV4tcrF"
      },
      "source": [
        "# Regular Expressions"
      ]
    },
    {
      "cell_type": "code",
      "metadata": {
        "id": "rx7UHUh0tcrI"
      },
      "source": [
        "import re"
      ],
      "execution_count": null,
      "outputs": []
    },
    {
      "cell_type": "code",
      "metadata": {
        "scrolled": true,
        "id": "FRgcYbNstcrS",
        "outputId": "4828604a-49b0-46b0-9c88-bf7791f5871a"
      },
      "source": [
        "hand = open('dept_hist.txt', encoding='UTF-8')\n",
        "for line in hand:\n",
        "    line = line.strip()\n",
        "    if re.search('Professor', line) :\n",
        "        print(line)"
      ],
      "execution_count": null,
      "outputs": [
        {
          "output_type": "stream",
          "text": [
            "1986 \tProfessor Sik-yum Lee assumed the duty of chairman of the Department.\n",
            "1993\tProfessor Nai Ng Chan became the third chairman of the Department.\n",
            "Professor Wing-hung Wong served as the chairman of the Department.\n",
            "1998 \tProfessor Yeh Lam succeeded Professor Wing-hong Wong and took up the chairmanship of the Department.\n",
            "1999 \tRisk Management Science (RMSC) stream was launched. Professor Kim Hung Li assumed the chairmanship for one year.\n",
            "2000 \tProfessor Jian Qing Fan served as the seventh chairman of the Department.\n",
            "2004 \tProfessor Ngai Hang Chan was inaugurated as the Department chairman.\n",
            "2013\tProfessor Qi Man Shao was inaugurated as the Department chairman.\n",
            "2018\tProfessor Xinyuan Song was inaugurated as the Department chairman.\n"
          ],
          "name": "stdout"
        }
      ]
    },
    {
      "cell_type": "code",
      "metadata": {
        "id": "XetobnMutcrb",
        "outputId": "2bb1b48d-a92d-40ef-b800-bbffe8c78474"
      },
      "source": [
        "hand = open('dept_hist.txt', encoding='UTF-8')\n",
        "for line in hand:\n",
        "    line = line.strip()\n",
        "    if re.search('^[^0-9]', line) :\n",
        "        print(line)"
      ],
      "execution_count": null,
      "outputs": [
        {
          "output_type": "stream",
          "text": [
            "The Department of Statistics (\"the Department\") at the Chinese University of Hong Kong (CUHK) was founded in 1982. In fact, statistical activities at CUHK predate the formation of the Department. Throughout the past 30 years, the Department has been growing steadily as a result of valuable contributions of numerous faculty, staff  members and students. Below shown is a chronicle of major events of the Department:\n",
            "Professor Wing-hung Wong served as the chairman of the Department.\n",
            "Risk Management Science (RMSC) was expanded to be an individual programme of study.\n",
            "The first batch of students majoring in RMSC was enrolled.\n"
          ],
          "name": "stdout"
        }
      ]
    },
    {
      "cell_type": "code",
      "metadata": {
        "scrolled": true,
        "id": "W-yvzmv9tcrm",
        "outputId": "cca2b463-7ba2-4998-ea42-ee615691e448"
      },
      "source": [
        "hand = open('dept_hist.txt', encoding='UTF-8')\n",
        "for line in hand:\n",
        "    line = line.rstrip()\n",
        "#     prof_names = re.findall('^Professor(\\s[A-Z][a-z]*)+', line)\n",
        "#     prof_names = re.findall('Prof(?:essor)?\\.?(?:\\s[A-Z\\-][a-z\\-]*)+', line)\n",
        "    prof_names = re.findall('Prof(?:essor)?\\.?(?: [A-Z][a-z\\-]*)+', line)\n",
        "    if len(prof_names)>0: print(prof_names[0])"
      ],
      "execution_count": null,
      "outputs": [
        {
          "output_type": "stream",
          "text": [
            "Prof. Howell Tong\n",
            "Professor Sik-yum Lee\n",
            "Professor Nai Ng Chan\n",
            "Professor Wing-hung Wong\n",
            "Professor Yeh Lam\n",
            "Professor Kim Hung Li\n",
            "Professor Jian Qing Fan\n",
            "Professor Ngai Hang Chan\n",
            "Professor Qi Man Shao\n",
            "Professor Xinyuan Song\n"
          ],
          "name": "stdout"
        }
      ]
    },
    {
      "cell_type": "markdown",
      "metadata": {
        "id": "Nm_sVOAxtcrv"
      },
      "source": [
        "Greedy Matching"
      ]
    },
    {
      "cell_type": "code",
      "metadata": {
        "id": "QrA5Neb5tcrx",
        "outputId": "8e670fe4-efaa-4312-f31e-a574ac87cfb5"
      },
      "source": [
        "line = 'The Department of Statistics (\"the Department\") at the Chinese University of Hong Kong (CUHK) was founded in 1982. In fact, statistical activities at CUHK predate the formation of the Department. Throughout the past 30 years, the Department has been growing steadily as a result of valuable contributions of numerous faculty, staff  members and students. Below shown is a chronicle of major events of the Department:'\n",
        "# print(re.findall('^.*\\.', line)) # Greedy Matching: get as much as possible\n",
        "print(re.findall('^.*?\\.', line)) # Non-Greedy Matching: get until the 1st full-stop."
      ],
      "execution_count": null,
      "outputs": [
        {
          "output_type": "stream",
          "text": [
            "['The Department of Statistics (\"the Department\") at the Chinese University of Hong Kong (CUHK) was founded in 1982.']\n"
          ],
          "name": "stdout"
        }
      ]
    }
  ]
}