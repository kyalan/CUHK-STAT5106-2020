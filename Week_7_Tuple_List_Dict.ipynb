{
  "nbformat": 4,
  "nbformat_minor": 0,
  "metadata": {
    "kernelspec": {
      "display_name": "Python 3",
      "language": "python",
      "name": "python3"
    },
    "language_info": {
      "codemirror_mode": {
        "name": "ipython",
        "version": 3
      },
      "file_extension": ".py",
      "mimetype": "text/x-python",
      "name": "python",
      "nbconvert_exporter": "python",
      "pygments_lexer": "ipython3",
      "version": "3.6.9"
    },
    "colab": {
      "name": "Week 7 Tuple - List - Dict.ipynb",
      "provenance": [],
      "include_colab_link": true
    }
  },
  "cells": [
    {
      "cell_type": "markdown",
      "metadata": {
        "id": "view-in-github",
        "colab_type": "text"
      },
      "source": [
        "<a href=\"https://colab.research.google.com/github/kyalan/CUHK-STAT5106-2020/blob/main/Week_7_Tuple_List_Dict.ipynb\" target=\"_parent\"><img src=\"https://colab.research.google.com/assets/colab-badge.svg\" alt=\"Open In Colab\"/></a>"
      ]
    },
    {
      "cell_type": "markdown",
      "metadata": {
        "id": "vhD43rfF3x9n"
      },
      "source": [
        "# List"
      ]
    },
    {
      "cell_type": "code",
      "metadata": {
        "id": "MZfD-cOU3x9p"
      },
      "source": [
        "print([1, 24, 76])\n",
        "print(['red', 'yellow', 'blue'])\n",
        "print(['red', 24, 98.6])\n",
        "print([ 1, [5, 6], 7])\n",
        "print([])"
      ],
      "execution_count": null,
      "outputs": []
    },
    {
      "cell_type": "code",
      "metadata": {
        "id": "x1IqO_Lo3x9x"
      },
      "source": [
        "professors = ['Michael', 'Tony', 'Ben']\n",
        "for prof in professors :\n",
        "    print('Happy New Year:',  prof)\n",
        "print('Done!')\n",
        "print(professors[1])\n",
        "print(len(professors))\n",
        "print(range(len(professors)))\n",
        "\n",
        "for i in range(len(professors)):\n",
        "    print('Happy New Year:',  professors[i])\n",
        "    \n",
        "professors.sort()\n",
        "print(professors)\n",
        "professors.reverse()\n",
        "print(professors)"
      ],
      "execution_count": null,
      "outputs": []
    },
    {
      "cell_type": "code",
      "metadata": {
        "id": "WwRYcLIL3x93"
      },
      "source": [
        "# List Concatenation\n",
        "a = [1, 2, 3]\n",
        "b = [4, 5, 6]\n",
        "c = a + b\n",
        "print(c)"
      ],
      "execution_count": null,
      "outputs": []
    },
    {
      "cell_type": "code",
      "metadata": {
        "id": "e15I0_CD3x97"
      },
      "source": [
        "# List Slicing\n",
        "t = [9, 41, 12, 3, 74, 15]\n",
        "print(t[1:3])\n",
        "print(t[:4])\n",
        "print(t[3:])\n",
        "print(t[:])\n",
        "print(len(t), max(t), min(t), sum(t), sum(t)/len(t))"
      ],
      "execution_count": null,
      "outputs": []
    },
    {
      "cell_type": "code",
      "metadata": {
        "id": "keA7e2P-3x9_"
      },
      "source": [
        "# List as a container\n",
        "stuff = []\n",
        "# or stuff = list()\n",
        "stuff.append('book')\n",
        "stuff.append(99)\n",
        "print(stuff)\n",
        "stuff.append('cookie')\n",
        "print(stuff)\n",
        "\n",
        "# check element in the list\n",
        "some = [1, 9, 21, 10, 16]\n",
        "print(9 in some\n",
        ", 15 in some\n",
        ", 20 not in some)"
      ],
      "execution_count": null,
      "outputs": []
    },
    {
      "cell_type": "markdown",
      "metadata": {
        "id": "ndl6WiYg3x-K"
      },
      "source": [
        "# Tuple"
      ]
    },
    {
      "cell_type": "code",
      "metadata": {
        "id": "zpXmcbPg3x-L"
      },
      "source": [
        "x = ('Iris', 'Yanny', 'Wendy')\n",
        "print(x[2])\n",
        "y = ( 1, 9, 2 )\n",
        "print(y)\n",
        "print(max(y))\n",
        "\n",
        "numlist = [9, 8, 7]\n",
        "numlist[2] = 6\n",
        "print(numlist)\n",
        "numtuple = (5, 4, 3)\n",
        "numtuple[2] = 0\n",
        "\n",
        "numtuple.sort()\n",
        "numtuple.append(5)\n",
        "numtuple.reverse()"
      ],
      "execution_count": null,
      "outputs": []
    },
    {
      "cell_type": "code",
      "metadata": {
        "id": "6gSQlF6h3x-Q"
      },
      "source": [
        "print(\n",
        "    type(numlist)\n",
        "    , dir(numlist)\n",
        "    , type(numtuple)\n",
        "    , dir(numtuple)\n",
        ")"
      ],
      "execution_count": null,
      "outputs": []
    },
    {
      "cell_type": "code",
      "metadata": {
        "id": "jJwkGEhm3x-Z"
      },
      "source": [
        "# multiple assignment\n",
        "(x, y) = (4, 'esther')\n",
        "print(y)\n",
        "a, b = (99, 98)\n",
        "print(a)"
      ],
      "execution_count": null,
      "outputs": []
    },
    {
      "cell_type": "code",
      "metadata": {
        "id": "KdX5vpPy3x-c"
      },
      "source": [
        "# Comparison\n",
        "print(\n",
        "    (0, 1, 2) < (5, 1, 2)\n",
        "    , (0, 1, 2000000) < (0, 3, 4)\n",
        "    , ( 'Jones', 'Sally' ) < ('Jones', 'Sam')\n",
        "    , ( 'Jones', 'Sally') > ('Adams', 'Sam')\n",
        ")"
      ],
      "execution_count": null,
      "outputs": []
    },
    {
      "cell_type": "markdown",
      "metadata": {
        "id": "nfeuzUfY3x-h"
      },
      "source": [
        "# Dictionary"
      ]
    },
    {
      "cell_type": "code",
      "metadata": {
        "id": "RPmxlFTe3x-j"
      },
      "source": [
        "purse = {}\n",
        "# or purse = dict()\n",
        "purse['money'] = 12\n",
        "purse['candy'] = 3\n",
        "purse['tissues'] = 75\n",
        "print(purse)\n",
        "print(purse['candy'])\n",
        "purse['candy'] = purse['candy'] + 2\n",
        "print(purse)"
      ],
      "execution_count": null,
      "outputs": []
    },
    {
      "cell_type": "code",
      "metadata": {
        "id": "IDlHcZmg3x-q"
      },
      "source": [
        "jjj = { 'Ben' : 1 , 'Tony' : 42, 'Philip': 100}\n",
        "print(jjj)"
      ],
      "execution_count": null,
      "outputs": []
    },
    {
      "cell_type": "code",
      "metadata": {
        "id": "EoY_qOH43x-u"
      },
      "source": [
        "# Counting Example\n",
        "ccc = {'Alan':1, 'Tony':2}\n",
        "print(ccc)\n",
        "print(ccc['Ben'])\n",
        "print('Ben' in ccc)\n",
        "\n",
        "counts = {}\n",
        "names = ['Ben', 'Tony', 'Ben', 'Philip', 'Michael']\n",
        "for name in names :\n",
        "    if name not in counts: \n",
        "        counts[name] = 1\n",
        "    else :\n",
        "        counts[name] = counts[name] + 1\n",
        "print(counts)\n",
        "\n",
        "counts = {}\n",
        "names = ['Ben', 'Tony', 'Ben', 'Philip', 'Michael']\n",
        "for name in names :\n",
        "    counts[name] = counts.get(name, 0) + 1\n",
        "print(counts)"
      ],
      "execution_count": null,
      "outputs": []
    },
    {
      "cell_type": "markdown",
      "metadata": {
        "id": "7ZZv9PVJ3x-y"
      },
      "source": [
        "# Shorten Loops"
      ]
    },
    {
      "cell_type": "markdown",
      "metadata": {
        "id": "lz0909bf3x-y"
      },
      "source": [
        "Map"
      ]
    },
    {
      "cell_type": "code",
      "metadata": {
        "id": "5_q0gtZa3x-z"
      },
      "source": [
        "store1 = [10.00, 11.00, 12.34, 2.34]\n",
        "store2 = [9.00, 11.10, 12.34, 2.01]\n",
        "cheapest = map(min, store1, store2)\n",
        "print(list(cheapest))"
      ],
      "execution_count": null,
      "outputs": []
    },
    {
      "cell_type": "markdown",
      "metadata": {
        "id": "Y_4U9J6P3x-4"
      },
      "source": [
        "Lambda functions"
      ]
    },
    {
      "cell_type": "code",
      "metadata": {
        "id": "Z1z8i35U3x-4"
      },
      "source": [
        "def wmin(x, y):\n",
        "    return (min(x*2.0, y*3.0))\n",
        "print(map(wmin, store1, store2))\n",
        "print(map(lambda x, y: min(x*2.0, y*3.0), store1, store2))"
      ],
      "execution_count": null,
      "outputs": []
    },
    {
      "cell_type": "markdown",
      "metadata": {
        "id": "bEUD56dw3x-8"
      },
      "source": [
        "List Comprehension"
      ]
    },
    {
      "cell_type": "code",
      "metadata": {
        "id": "N0aGJZeE3x-9"
      },
      "source": [
        "my_list = []\n",
        "for number in range(1000):\n",
        "    if number % 2 == 0:\n",
        "        my_list.append(number)\n",
        "print(my_list)\n",
        "\n",
        "my_list2 = [number for number in range(1000) if number % 2 == 0]\n",
        "print(my_list2)\n",
        "\n",
        "professors = ['Michael', 'Tony', 'Ben']\n",
        "for prof in professors :\n",
        "    print('Happy New Year:',  prof)\n",
        "[print('Happy New Year:',  prof) for prof in professors]\n",
        "\n",
        "# Dictionary Comprehension\n",
        "cabins = ['First Class', 'Business', 'Economy']\n",
        "nchar_cabins = {cabin: len(cabin) for cabin in cabins}\n",
        "print(nchar_cabins)\n"
      ],
      "execution_count": null,
      "outputs": []
    }
  ]
}