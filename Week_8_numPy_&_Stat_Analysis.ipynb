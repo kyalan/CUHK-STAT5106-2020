{
  "nbformat": 4,
  "nbformat_minor": 0,
  "metadata": {
    "kernelspec": {
      "display_name": "Python 3",
      "language": "python",
      "name": "python3"
    },
    "language_info": {
      "codemirror_mode": {
        "name": "ipython",
        "version": 3
      },
      "file_extension": ".py",
      "mimetype": "text/x-python",
      "name": "python",
      "nbconvert_exporter": "python",
      "pygments_lexer": "ipython3",
      "version": "3.6.9"
    },
    "colab": {
      "name": "Week 8 numPy & Stat. Analysis.ipynb",
      "provenance": [],
      "collapsed_sections": [],
      "include_colab_link": true
    }
  },
  "cells": [
    {
      "cell_type": "markdown",
      "metadata": {
        "id": "view-in-github",
        "colab_type": "text"
      },
      "source": [
        "<a href=\"https://colab.research.google.com/github/kyalan/CUHK-STAT5106-2020/blob/main/Week_8_numPy_%26_Stat_Analysis.ipynb\" target=\"_parent\"><img src=\"https://colab.research.google.com/assets/colab-badge.svg\" alt=\"Open In Colab\"/></a>"
      ]
    },
    {
      "cell_type": "markdown",
      "metadata": {
        "id": "UZvTY0BgCkCj"
      },
      "source": [
        "# numPy"
      ]
    },
    {
      "cell_type": "code",
      "metadata": {
        "id": "a9dxR36uCkCk"
      },
      "source": [
        "import numpy as np"
      ],
      "execution_count": null,
      "outputs": []
    },
    {
      "cell_type": "code",
      "metadata": {
        "id": "v-H7YCJICkCr"
      },
      "source": [
        "# array creation\n",
        "np.array([4, 5, 6])\n",
        "np.array([[7, 8, 9], [10, 11, 12]])    "
      ],
      "execution_count": null,
      "outputs": []
    },
    {
      "cell_type": "code",
      "metadata": {
        "id": "6vqFfbtrCkCu"
      },
      "source": [
        "# array dimension\n",
        "m = np.array([[7, 8, 9], [10, 11, 12]])    \n",
        "m.shape"
      ],
      "execution_count": null,
      "outputs": []
    },
    {
      "cell_type": "code",
      "metadata": {
        "id": "4JewrVhuCkCy"
      },
      "source": [
        "# sequence\n",
        "n = np.arange(0, 30, 2) # start at 0 count up by 2, stop before 30\n",
        "n"
      ],
      "execution_count": null,
      "outputs": []
    },
    {
      "cell_type": "code",
      "metadata": {
        "id": "om-qVCHOCkC1"
      },
      "source": [
        "# reshape the array / matrix\n",
        "n = n.reshape(3, 5) # reshape array to be 3x5\n",
        "n.resize(3, 5) # in-place\n",
        "n"
      ],
      "execution_count": null,
      "outputs": []
    },
    {
      "cell_type": "code",
      "metadata": {
        "id": "WG6asPGdCkC4"
      },
      "source": [
        "# interpolation\n",
        "o = np.linspace(0, 4, 9) # return 9 evenly spaced values from 0 to 4\n",
        "o"
      ],
      "execution_count": null,
      "outputs": []
    },
    {
      "cell_type": "code",
      "metadata": {
        "id": "5gLuFerKCkC8"
      },
      "source": [
        "# 1-matrix\n",
        "np.ones([3, 2])\n",
        "np.ones([3,2,2])"
      ],
      "execution_count": null,
      "outputs": []
    },
    {
      "cell_type": "code",
      "metadata": {
        "id": "TkWnS4OXCkDB"
      },
      "source": [
        "# 0-matrix\n",
        "np.zeros([2, 3])"
      ],
      "execution_count": null,
      "outputs": []
    },
    {
      "cell_type": "code",
      "metadata": {
        "id": "HL-bZUTLCkDF"
      },
      "source": [
        "# identity matrix\n",
        "np.eye(3)"
      ],
      "execution_count": null,
      "outputs": []
    },
    {
      "cell_type": "code",
      "metadata": {
        "id": "7XTvbm0jCkDL"
      },
      "source": [
        "# diagonalization / get diagonal\n",
        "y = np.diag([1, 2, 3, 4])\n",
        "np.diag(y)"
      ],
      "execution_count": null,
      "outputs": []
    },
    {
      "cell_type": "code",
      "metadata": {
        "id": "LKGw0TV5CkDO"
      },
      "source": [
        "# repeat arrays\n",
        "np.array([1, 2, 3] * 3)\n",
        "np.repeat([1, 2, 3], 3)"
      ],
      "execution_count": null,
      "outputs": []
    },
    {
      "cell_type": "code",
      "metadata": {
        "id": "YMHvery_CkDR"
      },
      "source": [
        "# combining arrays\n",
        "p = np.ones([2, 3])\n",
        "np.vstack([p, 2*p])\n",
        "np.hstack([p, 2*p])"
      ],
      "execution_count": null,
      "outputs": []
    },
    {
      "cell_type": "code",
      "metadata": {
        "id": "p7k1Cx2wCkDU"
      },
      "source": [
        "# arithmetics (element-wise)\n",
        "x = np.array([1,2,3])\n",
        "y = np.array([4,5,6])\n",
        "print(x+y, x-y, x*y, x/y, x**2)"
      ],
      "execution_count": null,
      "outputs": []
    },
    {
      "cell_type": "code",
      "metadata": {
        "id": "e4XySqwoCkDX"
      },
      "source": [
        "# Inner / Dot Product\n",
        "x.dot(y)"
      ],
      "execution_count": null,
      "outputs": []
    },
    {
      "cell_type": "code",
      "metadata": {
        "id": "CrqTe4pMCkDb"
      },
      "source": [
        "# transpose\n",
        "z = np.array([y, y**2])\n",
        "z.shape\n",
        "z.T\n",
        "z.T.shape"
      ],
      "execution_count": null,
      "outputs": []
    },
    {
      "cell_type": "code",
      "metadata": {
        "id": "1jjYOB8TCkDe"
      },
      "source": [
        "# type of matrix\n",
        "z.dtype\n",
        "z.astype('f')"
      ],
      "execution_count": null,
      "outputs": []
    },
    {
      "cell_type": "code",
      "metadata": {
        "id": "gyg5uPBjCkDh"
      },
      "source": [
        "# Math functions\n",
        "a = np.array([-4, -2, 1, 3, 5])\n",
        "print(a.sum(), a.max(), a.min(), a.mean(), a.std(), a.argmax(), a.argmin())"
      ],
      "execution_count": null,
      "outputs": []
    },
    {
      "cell_type": "markdown",
      "metadata": {
        "id": "eIMORsmYCkDk"
      },
      "source": [
        "# Matrix Slicing"
      ]
    },
    {
      "cell_type": "code",
      "metadata": {
        "id": "tRQXvdN4CkDk"
      },
      "source": [
        "# Array\n",
        "s = np.arange(13)**2\n",
        "s[0], s[4], s[-1], s[1:5], s[-4:]\n",
        "s[-5::-2] # array[start:stop:stepsize]"
      ],
      "execution_count": null,
      "outputs": []
    },
    {
      "cell_type": "code",
      "metadata": {
        "id": "A85efZp9CkDo"
      },
      "source": [
        "# Matrix\n",
        "r = np.arange(36)\n",
        "r.resize((6, 6))\n",
        "r\n",
        "r[2, 2], r[3, 3:6], r[:2, :-1], r[-1, ::2], r[r > 30]\n",
        "r[r > 30] = 30\n",
        "r"
      ],
      "execution_count": null,
      "outputs": []
    },
    {
      "cell_type": "markdown",
      "metadata": {
        "id": "zrgKY0D3DE-T"
      },
      "source": [
        "# Connecting to Google Drive"
      ]
    },
    {
      "cell_type": "code",
      "metadata": {
        "id": "3UuBrxm7DNBj"
      },
      "source": [
        "from google.colab import drive\n",
        "drive.mount('/content/gdrive')"
      ],
      "execution_count": null,
      "outputs": []
    },
    {
      "cell_type": "code",
      "metadata": {
        "id": "5Cum0i5kFkUp"
      },
      "source": [
        "import os\n",
        "\n",
        "# Your original folder\n",
        "gdrive_folder = 'CUHK_STAT5106_2020/Week 8 - 7 Nov'\n",
        "os.chdir(f'/content/gdrive/My Drive/{gdrive_folder}')"
      ],
      "execution_count": null,
      "outputs": []
    },
    {
      "cell_type": "code",
      "metadata": {
        "id": "7EMIkcPZGWYP"
      },
      "source": [
        "# check whether the folder is as your expected\n",
        "print(os.listdir())"
      ],
      "execution_count": null,
      "outputs": []
    },
    {
      "cell_type": "markdown",
      "metadata": {
        "id": "ATN9uDwxCkDq"
      },
      "source": [
        "# Statistical Analysis in Python"
      ]
    },
    {
      "cell_type": "code",
      "metadata": {
        "id": "UYilJvSJCkDr"
      },
      "source": [
        "import pandas as pd\n",
        "data = pd.read_csv('brain_size.csv', sep=';', na_values=\".\")\n",
        "print(data.head(), '\\n')\n",
        "print(data.info(), '\\n')\n",
        "print(data.describe(), '\\n')"
      ],
      "execution_count": null,
      "outputs": []
    },
    {
      "cell_type": "code",
      "metadata": {
        "id": "ZzaW0eofCkDu"
      },
      "source": [
        "from scipy import stats\n",
        "stats.describe(data['VIQ'])"
      ],
      "execution_count": null,
      "outputs": []
    },
    {
      "cell_type": "code",
      "metadata": {
        "id": "sOfUNbzrCkDy"
      },
      "source": [
        "#1-sample t-test\n",
        "stats.ttest_1samp(data['VIQ'], 0)"
      ],
      "execution_count": null,
      "outputs": []
    },
    {
      "cell_type": "code",
      "metadata": {
        "id": "wLSn3IaCCkD0"
      },
      "source": [
        "#2-sample independent t-test\n",
        "female_viq = data[data['Gender'] == 'Female']['VIQ']\n",
        "male_viq = data[data['Gender'] == 'Male']['VIQ']\n",
        "stats.ttest_ind(female_viq, male_viq)"
      ],
      "execution_count": null,
      "outputs": []
    },
    {
      "cell_type": "code",
      "metadata": {
        "id": "bW-QbLNSCkD3"
      },
      "source": [
        "#2-sample comparative t-test\n",
        "stats.ttest_rel(data['FSIQ'], data['PIQ']) \n",
        "stats.ttest_1samp(data['FSIQ'] - data['PIQ'], 0)"
      ],
      "execution_count": null,
      "outputs": []
    },
    {
      "cell_type": "code",
      "metadata": {
        "id": "1gfEhYXeCkD8"
      },
      "source": [
        "from statsmodels.formula.api import ols\n",
        "\n",
        "model = ols(\"VIQ ~ Gender + 1\", data)\n",
        "results = model.fit()\n",
        "print(results.summary())\n",
        "model2 = ols('VIQ ~ Gender + Weight + Height + MRI_Count', data)\n",
        "results2 = model2.fit()\n",
        "print(results2.summary())\n",
        "#Influence point checking\n",
        "infl = results2.get_influence()\n",
        "print(infl.summary_table())\n",
        "\n",
        "from statsmodels.stats.api import anova_lm\n",
        "#ANOVA for Model Comparison\n",
        "table1 = anova_lm(results, results2)\n",
        "print(table1)"
      ],
      "execution_count": null,
      "outputs": []
    },
    {
      "cell_type": "code",
      "metadata": {
        "id": "mogCOcZuGiUu"
      },
      "source": [
        ""
      ],
      "execution_count": null,
      "outputs": []
    }
  ]
}