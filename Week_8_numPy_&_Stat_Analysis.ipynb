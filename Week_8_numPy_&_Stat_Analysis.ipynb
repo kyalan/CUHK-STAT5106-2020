{
  "nbformat": 4,
  "nbformat_minor": 0,
  "metadata": {
    "kernelspec": {
      "display_name": "Python 3",
      "language": "python",
      "name": "python3"
    },
    "language_info": {
      "codemirror_mode": {
        "name": "ipython",
        "version": 3
      },
      "file_extension": ".py",
      "mimetype": "text/x-python",
      "name": "python",
      "nbconvert_exporter": "python",
      "pygments_lexer": "ipython3",
      "version": "3.6.9"
    },
    "colab": {
      "name": "Week 8 numPy & Stat. Analysis.ipynb",
      "provenance": [],
      "include_colab_link": true
    }
  },
  "cells": [
    {
      "cell_type": "markdown",
      "metadata": {
        "id": "view-in-github",
        "colab_type": "text"
      },
      "source": [
        "<a href=\"https://colab.research.google.com/github/kyalan/CUHK-STAT5106-2020/blob/main/Week_8_numPy_%26_Stat_Analysis.ipynb\" target=\"_parent\"><img src=\"https://colab.research.google.com/assets/colab-badge.svg\" alt=\"Open In Colab\"/></a>"
      ]
    },
    {
      "cell_type": "markdown",
      "metadata": {
        "id": "4yf8NAEkBmU8"
      },
      "source": [
        "# numPy"
      ]
    },
    {
      "cell_type": "code",
      "metadata": {
        "id": "MRST-L4GBmU-"
      },
      "source": [
        "import numpy as np"
      ],
      "execution_count": null,
      "outputs": []
    },
    {
      "cell_type": "code",
      "metadata": {
        "id": "AjDka3WrBmVD"
      },
      "source": [
        "# array creation\n",
        "np.array([4, 5, 6])\n",
        "np.array([[7, 8, 9], [10, 11, 12]])    "
      ],
      "execution_count": null,
      "outputs": []
    },
    {
      "cell_type": "code",
      "metadata": {
        "id": "6aQ-GjDWBmVH"
      },
      "source": [
        "# array dimension\n",
        "m = np.array([[7, 8, 9], [10, 11, 12]])    \n",
        "m.shape"
      ],
      "execution_count": null,
      "outputs": []
    },
    {
      "cell_type": "code",
      "metadata": {
        "id": "4H-SGcklBmVK"
      },
      "source": [
        "# sequence\n",
        "n = np.arange(0, 30, 2) # start at 0 count up by 2, stop before 30\n",
        "n"
      ],
      "execution_count": null,
      "outputs": []
    },
    {
      "cell_type": "code",
      "metadata": {
        "id": "A-EYEC_xBmVN"
      },
      "source": [
        "# reshape the array / matrix\n",
        "n = n.reshape(3, 5) # reshape array to be 3x5\n",
        "n.resize(3, 5) # in-place\n",
        "n"
      ],
      "execution_count": null,
      "outputs": []
    },
    {
      "cell_type": "code",
      "metadata": {
        "id": "qy_EQuoMBmVR"
      },
      "source": [
        "# interpolation\n",
        "o = np.linspace(0, 4, 9) # return 9 evenly spaced values from 0 to 4\n",
        "o"
      ],
      "execution_count": null,
      "outputs": []
    },
    {
      "cell_type": "code",
      "metadata": {
        "id": "5EveXccwBmVV"
      },
      "source": [
        "# 1-matrix\n",
        "np.ones([3, 2])\n",
        "np.ones([3,2,2])"
      ],
      "execution_count": null,
      "outputs": []
    },
    {
      "cell_type": "code",
      "metadata": {
        "id": "K5Haa2YIBmVZ"
      },
      "source": [
        "# 0-matrix\n",
        "np.zeros([2, 3])"
      ],
      "execution_count": null,
      "outputs": []
    },
    {
      "cell_type": "code",
      "metadata": {
        "id": "_JMh-wEdBmVc"
      },
      "source": [
        "# identity matrix\n",
        "np.eye(3)"
      ],
      "execution_count": null,
      "outputs": []
    },
    {
      "cell_type": "code",
      "metadata": {
        "id": "NuRZN-K5BmVf"
      },
      "source": [
        "# diagonalization / get diagonal\n",
        "y = np.diag([1, 2, 3, 4])\n",
        "np.diag(y)"
      ],
      "execution_count": null,
      "outputs": []
    },
    {
      "cell_type": "code",
      "metadata": {
        "id": "vqFreimxBmVj"
      },
      "source": [
        "# repeat arrays\n",
        "np.array([1, 2, 3] * 3)\n",
        "np.repeat([1, 2, 3], 3)"
      ],
      "execution_count": null,
      "outputs": []
    },
    {
      "cell_type": "code",
      "metadata": {
        "id": "aTAQA3U2BmVm"
      },
      "source": [
        "# combining arrays\n",
        "p = np.ones([2, 3])\n",
        "np.vstack([p, 2*p])\n",
        "np.hstack([p, 2*p])"
      ],
      "execution_count": null,
      "outputs": []
    },
    {
      "cell_type": "code",
      "metadata": {
        "id": "96x144nmBmVp"
      },
      "source": [
        "# arithmetics (element-wise)\n",
        "x = np.array([1,2,3])\n",
        "y = np.array([4,5,6])\n",
        "print(x+y, x-y, x*y, x/y, x**2)"
      ],
      "execution_count": null,
      "outputs": []
    },
    {
      "cell_type": "code",
      "metadata": {
        "id": "Tn7k5B1IBmVs"
      },
      "source": [
        "# Inner / Dot Product\n",
        "x.dot(y)"
      ],
      "execution_count": null,
      "outputs": []
    },
    {
      "cell_type": "code",
      "metadata": {
        "id": "NLRgR_k5BmVw"
      },
      "source": [
        "# transpose\n",
        "z = np.array([y, y**2])\n",
        "z.shape\n",
        "z.T\n",
        "z.T.shape"
      ],
      "execution_count": null,
      "outputs": []
    },
    {
      "cell_type": "code",
      "metadata": {
        "id": "Dc17bNZKBmVz"
      },
      "source": [
        "# type of matrix\n",
        "z.dtype\n",
        "z.astype('f')"
      ],
      "execution_count": null,
      "outputs": []
    },
    {
      "cell_type": "code",
      "metadata": {
        "id": "FZ5hM0EpBmV2"
      },
      "source": [
        "# Math functions\n",
        "a = np.array([-4, -2, 1, 3, 5])\n",
        "print(a.sum(), a.max(), a.min(), a.mean(), a.std(), a.argmax(), a.argmin())"
      ],
      "execution_count": null,
      "outputs": []
    },
    {
      "cell_type": "markdown",
      "metadata": {
        "id": "2KVlYCShBmV5"
      },
      "source": [
        "# Matrix Slicing"
      ]
    },
    {
      "cell_type": "code",
      "metadata": {
        "id": "RqlzX4i8BmV6"
      },
      "source": [
        "# Array\n",
        "s = np.arange(13)**2\n",
        "s[0], s[4], s[-1], s[1:5], s[-4:]\n",
        "s[-5::-2] # array[start:stop:stepsize]"
      ],
      "execution_count": null,
      "outputs": []
    },
    {
      "cell_type": "code",
      "metadata": {
        "id": "hMpEDfRHBmV9"
      },
      "source": [
        "# Matrix\n",
        "r = np.arange(36)\n",
        "r.resize((6, 6))\n",
        "r\n",
        "r[2, 2], r[3, 3:6], r[:2, :-1], r[-1, ::2], r[r > 30]\n",
        "r[r > 30] = 30\n",
        "r"
      ],
      "execution_count": null,
      "outputs": []
    },
    {
      "cell_type": "markdown",
      "metadata": {
        "id": "Mk-l0UFoBmWB"
      },
      "source": [
        "# Statistical Analysis in Python"
      ]
    },
    {
      "cell_type": "code",
      "metadata": {
        "id": "0bKRQjsYBmWB"
      },
      "source": [
        "import pandas as pd\n",
        "data = pd.read_csv('brain_size.csv', sep=';', na_values=\".\")\n",
        "print(data.head(), '\\n')\n",
        "print(data.info(), '\\n')\n",
        "print(data.describe(), '\\n')"
      ],
      "execution_count": null,
      "outputs": []
    },
    {
      "cell_type": "code",
      "metadata": {
        "id": "HO34Ea60BmWG"
      },
      "source": [
        "from scipy import stats\n",
        "stats.describe(data['VIQ'])"
      ],
      "execution_count": null,
      "outputs": []
    },
    {
      "cell_type": "code",
      "metadata": {
        "id": "XCPFxgJeBmWI"
      },
      "source": [
        "#1-sample t-test\n",
        "stats.ttest_1samp(data['VIQ'], 0)"
      ],
      "execution_count": null,
      "outputs": []
    },
    {
      "cell_type": "code",
      "metadata": {
        "id": "l4mtX38dBmWL"
      },
      "source": [
        "#2-sample independent t-test\n",
        "female_viq = data[data['Gender'] == 'Female']['VIQ']\n",
        "male_viq = data[data['Gender'] == 'Male']['VIQ']\n",
        "stats.ttest_ind(female_viq, male_viq)"
      ],
      "execution_count": null,
      "outputs": []
    },
    {
      "cell_type": "code",
      "metadata": {
        "id": "Ks9wD7GzBmWO"
      },
      "source": [
        "#2-sample comparative t-test\n",
        "stats.ttest_rel(data['FSIQ'], data['PIQ']) \n",
        "stats.ttest_1samp(data['FSIQ'] - data['PIQ'], 0)"
      ],
      "execution_count": null,
      "outputs": []
    },
    {
      "cell_type": "code",
      "metadata": {
        "id": "O6sitRYfBmWT"
      },
      "source": [
        "from statsmodels.formula.api import ols\n",
        "\n",
        "model = ols(\"VIQ ~ Gender + 1\", data)\n",
        "results = model.fit()\n",
        "print(results.summary())\n",
        "model2 = ols('VIQ ~ Gender + Weight + Height + MRI_Count', data)\n",
        "results2 = model2.fit()\n",
        "print(results2.summary())\n",
        "#Influence point checking\n",
        "infl = results2.get_influence()\n",
        "print(infl.summary_table())\n",
        "\n",
        "from statsmodels.stats.api import anova_lm\n",
        "#ANOVA for Model Comparison\n",
        "table1 = anova_lm(results, results2)\n",
        "print(table1)"
      ],
      "execution_count": null,
      "outputs": []
    }
  ]
}