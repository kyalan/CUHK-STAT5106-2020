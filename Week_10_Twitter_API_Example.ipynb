{
  "nbformat": 4,
  "nbformat_minor": 0,
  "metadata": {
    "colab": {
      "name": "Week 10 - Twitter API Example.ipynb",
      "provenance": [],
      "collapsed_sections": [],
      "authorship_tag": "ABX9TyOTNqGZXEDO7VZWpXyLB5Tc",
      "include_colab_link": true
    },
    "kernelspec": {
      "name": "python3",
      "display_name": "Python 3"
    }
  },
  "cells": [
    {
      "cell_type": "markdown",
      "metadata": {
        "id": "view-in-github",
        "colab_type": "text"
      },
      "source": [
        "<a href=\"https://colab.research.google.com/github/kyalan/CUHK-STAT5106-2020/blob/main/Week_10_Twitter_API_Example.ipynb\" target=\"_parent\"><img src=\"https://colab.research.google.com/assets/colab-badge.svg\" alt=\"Open In Colab\"/></a>"
      ]
    },
    {
      "cell_type": "markdown",
      "metadata": {
        "id": "dkeFfv1IUK2O"
      },
      "source": [
        "Reference: [py4e by Dr. Chuck](https://www.py4e.com/lessons/servces#)"
      ]
    },
    {
      "cell_type": "markdown",
      "metadata": {
        "id": "NedtX-3IU0GC"
      },
      "source": [
        "# Download packages"
      ]
    },
    {
      "cell_type": "code",
      "metadata": {
        "id": "t9Z-DZGiVEZy"
      },
      "source": [
        "# Confirm working directory\n",
        "import os\n",
        "print(os.getcwd())"
      ],
      "execution_count": null,
      "outputs": []
    },
    {
      "cell_type": "code",
      "metadata": {
        "id": "jWM8concVQ5f"
      },
      "source": [
        "! wget --no-check-certificate 'https://drive.google.com/uc?export=download&id=1x_q7GPlv6Wm6Pzwsm_4dmAogjHzKeTmU' -O /content/twurl.py\n",
        "! wget --no-check-certificate 'https://drive.google.com/uc?export=download&id=1xqVe6Whj9GWWhZW8VDHKsrL_ohKon2ew' -O /content/oauth.py\n",
        "! wget --no-check-certificate 'https://drive.google.com/uc?export=download&id=1opEhLdkcv_of5XMbck95rSLlc1QaniuX' -O /content/hidden_sample.py\n",
        "\n",
        "! wget --no-check-certificate 'https://drive.google.com/uc?export=download&id=1bF...iK2' -O /content/hidden.py"
      ],
      "execution_count": null,
      "outputs": []
    },
    {
      "cell_type": "code",
      "metadata": {
        "id": "7NRM4cCXVq4l"
      },
      "source": [
        "# hidden sample content\n",
        "\n",
        "with open('hidden_sample.py') as f:\n",
        "    print(f.read())"
      ],
      "execution_count": null,
      "outputs": []
    },
    {
      "cell_type": "markdown",
      "metadata": {
        "id": "Im-hzhleWusc"
      },
      "source": [
        "To create the secrets, please head to [here](https://apps.twitter.com/)"
      ]
    },
    {
      "cell_type": "code",
      "metadata": {
        "id": "Z1_JkXfrXsJ8"
      },
      "source": [
        "# twurl content\n",
        "\n",
        "with open('twurl.py') as f:\n",
        "    print(f.read())"
      ],
      "execution_count": null,
      "outputs": []
    },
    {
      "cell_type": "markdown",
      "metadata": {
        "id": "hyhZkXSbWRky"
      },
      "source": [
        "# Import packages"
      ]
    },
    {
      "cell_type": "code",
      "metadata": {
        "id": "NsSaM48PWlew"
      },
      "source": [
        "import urllib.request, urllib.parse, urllib.error\n",
        "import twurl\n",
        "import ssl\n",
        "import json"
      ],
      "execution_count": null,
      "outputs": []
    },
    {
      "cell_type": "code",
      "metadata": {
        "id": "mRDb0thZYr07"
      },
      "source": [
        "# Ignore SSL certificate errors\n",
        "ctx = ssl.create_default_context()\n",
        "ctx.check_hostname = False\n",
        "ctx.verify_mode = ssl.CERT_NONE"
      ],
      "execution_count": null,
      "outputs": []
    },
    {
      "cell_type": "markdown",
      "metadata": {
        "id": "g03QaeHcYvuy"
      },
      "source": [
        "# Main Program"
      ]
    },
    {
      "cell_type": "code",
      "metadata": {
        "id": "09txOOwDYyLn"
      },
      "source": [
        "TWITTER_URL = 'https://api.twitter.com/1.1/statuses/user_timeline.json'"
      ],
      "execution_count": null,
      "outputs": []
    },
    {
      "cell_type": "code",
      "metadata": {
        "id": "qHqFLZUTY7I-"
      },
      "source": [
        "while True:\n",
        "    print('')\n",
        "    acct = input('Enter Twitter Account:')\n",
        "    if (len(acct) < 1): break\n",
        "    url = twurl.augment(TWITTER_URL, {'screen_name': acct, 'count': '2'})\n",
        "\n",
        "    print('Retrieving', url)\n",
        "    connection = urllib.request.urlopen(url, context=ctx)\n",
        "    data = connection.read().decode()\n",
        "    print('Retrieved', len(data), 'character.')\n",
        "    \n",
        "    js = json.loads(data)\n",
        "    print(js[0].keys(), '\\nndata =', len(js))\n",
        "    headers = dict(connection.getheaders())\n",
        "    # print headers\n",
        "    print('Remaining', headers['x-rate-limit-remaining'])"
      ],
      "execution_count": null,
      "outputs": []
    },
    {
      "cell_type": "code",
      "metadata": {
        "id": "mXkOXZpoch6h"
      },
      "source": [
        "print(js)"
      ],
      "execution_count": null,
      "outputs": []
    },
    {
      "cell_type": "code",
      "metadata": {
        "id": "PpPqELvCdKax"
      },
      "source": [
        "headers"
      ],
      "execution_count": null,
      "outputs": []
    },
    {
      "cell_type": "markdown",
      "metadata": {
        "id": "yMvPFUJvafOG"
      },
      "source": [
        "# More Reference: \n",
        "[Rate Limits](https://developer.twitter.com/en/docs/twitter-api/v1/rate-limits)\n",
        "\n",
        "[python-twitter](https://python-twitter.readthedocs.io/)"
      ]
    }
  ]
}