{
 "cells": [
  {
   "cell_type": "markdown",
   "metadata": {},
   "source": [
    "# List"
   ]
  },
  {
   "cell_type": "code",
   "execution_count": null,
   "metadata": {},
   "outputs": [],
   "source": [
    "print([1, 24, 76])\n",
    "print(['red', 'yellow', 'blue'])\n",
    "print(['red', 24, 98.6])\n",
    "print([ 1, [5, 6], 7])\n",
    "print([])"
   ]
  },
  {
   "cell_type": "code",
   "execution_count": null,
   "metadata": {},
   "outputs": [],
   "source": [
    "professors = ['Michael', 'Tony', 'Ben']\n",
    "for prof in professors :\n",
    "    print('Happy New Year:',  prof)\n",
    "print('Done!')\n",
    "print(professors[1])\n",
    "print(len(professors))\n",
    "print(range(len(professors)))\n",
    "\n",
    "for i in range(len(professors)):\n",
    "    print('Happy New Year:',  professors[i])\n",
    "    \n",
    "professors.sort()\n",
    "print(professors)\n",
    "professors.reverse()\n",
    "print(professors)"
   ]
  },
  {
   "cell_type": "code",
   "execution_count": null,
   "metadata": {},
   "outputs": [],
   "source": [
    "# List Concatenation\n",
    "a = [1, 2, 3]\n",
    "b = [4, 5, 6]\n",
    "c = a + b\n",
    "print(c)"
   ]
  },
  {
   "cell_type": "code",
   "execution_count": null,
   "metadata": {},
   "outputs": [],
   "source": [
    "# List Slicing\n",
    "t = [9, 41, 12, 3, 74, 15]\n",
    "print(t[1:3])\n",
    "print(t[:4])\n",
    "print(t[3:])\n",
    "print(t[:])\n",
    "print(len(t), max(t), min(t), sum(t), sum(t)/len(t))"
   ]
  },
  {
   "cell_type": "code",
   "execution_count": null,
   "metadata": {},
   "outputs": [],
   "source": [
    "# List as a container\n",
    "stuff = []\n",
    "# or stuff = list()\n",
    "stuff.append('book')\n",
    "stuff.append(99)\n",
    "print(stuff)\n",
    "stuff.append('cookie')\n",
    "print(stuff)\n",
    "\n",
    "# check element in the list\n",
    "some = [1, 9, 21, 10, 16]\n",
    "print(9 in some\n",
    ", 15 in some\n",
    ", 20 not in some)"
   ]
  },
  {
   "cell_type": "markdown",
   "metadata": {},
   "source": [
    "# Tuple"
   ]
  },
  {
   "cell_type": "code",
   "execution_count": null,
   "metadata": {},
   "outputs": [],
   "source": [
    "x = ('Iris', 'Yanny', 'Wendy')\n",
    "print(x[2])\n",
    "y = ( 1, 9, 2 )\n",
    "print(y)\n",
    "print(max(y))\n",
    "\n",
    "numlist = [9, 8, 7]\n",
    "numlist[2] = 6\n",
    "print(numlist)\n",
    "numtuple = (5, 4, 3)\n",
    "numtuple[2] = 0\n",
    "\n",
    "numtuple.sort()\n",
    "numtuple.append(5)\n",
    "numtuple.reverse()"
   ]
  },
  {
   "cell_type": "code",
   "execution_count": null,
   "metadata": {},
   "outputs": [],
   "source": [
    "print(\n",
    "    type(numlist)\n",
    "    , dir(numlist)\n",
    "    , type(numtuple)\n",
    "    , dir(numtuple)\n",
    ")"
   ]
  },
  {
   "cell_type": "code",
   "execution_count": null,
   "metadata": {},
   "outputs": [],
   "source": [
    "# multiple assignment\n",
    "(x, y) = (4, 'esther')\n",
    "print(y)\n",
    "a, b = (99, 98)\n",
    "print(a)"
   ]
  },
  {
   "cell_type": "code",
   "execution_count": null,
   "metadata": {},
   "outputs": [],
   "source": [
    "# Comparison\n",
    "print(\n",
    "    (0, 1, 2) < (5, 1, 2)\n",
    "    , (0, 1, 2000000) < (0, 3, 4)\n",
    "    , ( 'Jones', 'Sally' ) < ('Jones', 'Sam')\n",
    "    , ( 'Jones', 'Sally') > ('Adams', 'Sam')\n",
    ")"
   ]
  },
  {
   "cell_type": "markdown",
   "metadata": {},
   "source": [
    "# Dictionary"
   ]
  },
  {
   "cell_type": "code",
   "execution_count": null,
   "metadata": {},
   "outputs": [],
   "source": [
    "purse = {}\n",
    "# or purse = dict()\n",
    "purse['money'] = 12\n",
    "purse['candy'] = 3\n",
    "purse['tissues'] = 75\n",
    "print(purse)\n",
    "print(purse['candy'])\n",
    "purse['candy'] = purse['candy'] + 2\n",
    "print(purse)"
   ]
  },
  {
   "cell_type": "code",
   "execution_count": null,
   "metadata": {},
   "outputs": [],
   "source": [
    "jjj = { 'Ben' : 1 , 'Tony' : 42, 'Philip': 100}\n",
    "print(jjj)"
   ]
  },
  {
   "cell_type": "code",
   "execution_count": null,
   "metadata": {},
   "outputs": [],
   "source": [
    "# Counting Example\n",
    "ccc = {'Alan':1, 'Tony':2}\n",
    "print(ccc)\n",
    "print(ccc['Ben'])\n",
    "print('Ben' in ccc)\n",
    "\n",
    "counts = {}\n",
    "names = ['Ben', 'Tony', 'Ben', 'Philip', 'Michael']\n",
    "for name in names :\n",
    "    if name not in counts: \n",
    "        counts[name] = 1\n",
    "    else :\n",
    "        counts[name] = counts[name] + 1\n",
    "print(counts)\n",
    "\n",
    "counts = {}\n",
    "names = ['Ben', 'Tony', 'Ben', 'Philip', 'Michael']\n",
    "for name in names :\n",
    "    counts[name] = counts.get(name, 0) + 1\n",
    "print(counts)"
   ]
  },
  {
   "cell_type": "markdown",
   "metadata": {},
   "source": [
    "# Shorten Loops"
   ]
  },
  {
   "cell_type": "markdown",
   "metadata": {},
   "source": [
    "Map"
   ]
  },
  {
   "cell_type": "code",
   "execution_count": null,
   "metadata": {},
   "outputs": [],
   "source": [
    "store1 = [10.00, 11.00, 12.34, 2.34]\n",
    "store2 = [9.00, 11.10, 12.34, 2.01]\n",
    "cheapest = map(min, store1, store2)\n",
    "print(list(cheapest))"
   ]
  },
  {
   "cell_type": "markdown",
   "metadata": {},
   "source": [
    "Lambda functions"
   ]
  },
  {
   "cell_type": "code",
   "execution_count": null,
   "metadata": {},
   "outputs": [],
   "source": [
    "def wmin(x, y):\n",
    "    return (min(x*2.0, y*3.0))\n",
    "print(map(wmin, store1, store2))\n",
    "print(map(lambda x, y: min(x*2.0, y*3.0), store1, store2))"
   ]
  },
  {
   "cell_type": "markdown",
   "metadata": {},
   "source": [
    "List Comprehension"
   ]
  },
  {
   "cell_type": "code",
   "execution_count": null,
   "metadata": {},
   "outputs": [],
   "source": [
    "my_list = []\n",
    "for number in range(1000):\n",
    "    if number % 2 == 0:\n",
    "        my_list.append(number)\n",
    "print(my_list)\n",
    "\n",
    "my_list2 = [number for number in range(1000) if number % 2 == 0]\n",
    "print(my_list2)\n",
    "\n",
    "professors = ['Michael', 'Tony', 'Ben']\n",
    "for prof in professors :\n",
    "    print('Happy New Year:',  prof)\n",
    "[print('Happy New Year:',  prof) for prof in professors]\n",
    "\n",
    "# Dictionary Comprehension\n",
    "cabins = ['First Class', 'Business', 'Economy']\n",
    "nchar_cabins = {cabin: len(cabin) for cabin in cabins}\n",
    "print(nchar_cabins)\n"
   ]
  }
 ],
 "metadata": {
  "kernelspec": {
   "display_name": "Python 3",
   "language": "python",
   "name": "python3"
  },
  "language_info": {
   "codemirror_mode": {
    "name": "ipython",
    "version": 3
   },
   "file_extension": ".py",
   "mimetype": "text/x-python",
   "name": "python",
   "nbconvert_exporter": "python",
   "pygments_lexer": "ipython3",
   "version": "3.6.9"
  }
 },
 "nbformat": 4,
 "nbformat_minor": 2
}
